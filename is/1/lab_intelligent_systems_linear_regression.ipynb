{
 "cells": [
  {
   "cell_type": "markdown",
   "id": "94d12149",
   "metadata": {
    "id": "94d12149"
   },
   "source": [
    "# Лабораторная работа 1\n",
    "*********\n",
    "## Линейная регрессия как задача контролируемого (индуктивного) обучения"
   ]
  },
  {
   "cell_type": "markdown",
   "id": "05aa48ad",
   "metadata": {
    "id": "05aa48ad"
   },
   "source": [
    "На этом занятии компьютерного практикума вы изучите линейную регрессию и получите\n",
    "представление, о том, как данная процедура применяется для обработки данных. Во многих\n",
    "приложениях нейронные сети реализуют регрессионные вычисления (статистический метод\n",
    "исследования влияния одной или нескольких независимых переменных\n",
    "$x_1$, $x_2$, ..., $x_p$ на зависимую переменную $y$) или решение задач классификации. При этом, в частности, линейная\n",
    "регрессия (англ. Linear regression) представляет собой регрессионную модель зависимости одной\n",
    "(объясняемой, зависимой) переменной $y$ от другой или нескольких других переменных (факторов,\n",
    "регрессоров, независимых переменных) $x$ с линейной функцией зависимости.\n",
    "\n",
    "Прежде чем приступить, собственно к программированию, настоятельно рекомендуется\n",
    "ознакомиться с материалом лекций, а также с дополнительными материалами, имеющими\n",
    "отношение к задаче градиентного спуска и к области минимизации функционалов"
   ]
  },
  {
   "cell_type": "code",
   "execution_count": 1,
   "id": "41cbe7f3",
   "metadata": {
    "id": "41cbe7f3"
   },
   "outputs": [],
   "source": [
    "# импортируем все необходимые билиотеки\n",
    "import numpy as np\n",
    "import pandas as pd\n",
    "import seaborn as sns\n",
    "import math\n",
    "from mpl_toolkits.mplot3d import axes3d\n",
    "from matplotlib import cm\n",
    "from matplotlib import pyplot as plt\n",
    "import warnings\n",
    "warnings.filterwarnings('ignore')\n",
    "%matplotlib inline"
   ]
  },
  {
   "cell_type": "markdown",
   "id": "9adf54cb",
   "metadata": {
    "id": "9adf54cb"
   },
   "source": [
    "## Лабораторная работа 1.1: Простая линейная регрессия\n",
    "\n",
    "### Линейна регрессия с одной переменной\n",
    "В этой части упражнения Вы реализуете линейную регрессию с одной переменной для\n",
    "прогнозирования прибыли сервисного центра по обслуживанию, например, изделий бытовой\n",
    "электроники. Допустим, рассматриваются кандидатуры нескольких городов для такого сервисного\n",
    "центра. Сеть подобных сервисных центров уже функционирует и у Вас есть данные по прибыли в\n",
    "зависимости от числа жителей города (или от количества изделий, находящихся на обслуживании\n",
    "в городе). Вы бы хотели использовать эти данные с тем, чтобы понять, в каком городе открыть\n",
    "дополнительный сервисный центр или спрогнозировать прибыль в зависимости от числа жителей.\n",
    "Файл Service_center.csv содержит набор данных для задачи с линейной регрессией. Первый столбец\n",
    "– число жителей города (количество проданных изделий бытовой электроники), второй – прибыль\n",
    "центра в этом городе. Отрицательные значения прибыли означают убыток.\n",
    "\n",
    "### Построение данных\n",
    "До начала выполнения любого задания было бы полезным представить данные в графическом\n",
    "виде. Для визуализации набора данных (в дальнейшем, при решении аналогичной задачи с\n",
    "помощью нейронной сети, этот набор данных представляет собой обучающие данные) можно\n",
    "использовать точечную диаграмму, т.к. имеется только два свойства – прибыль и население города\n",
    "(количество аппаратов). Многие задачи из реальной жизни имеют большее количество свойств и\n",
    "параметров, так что построить их на двумерном графике, конечно же, не удастся"
   ]
  },
  {
   "cell_type": "markdown",
   "id": "07d5c48f",
   "metadata": {
    "id": "07d5c48f"
   },
   "source": [
    "## Задание 1: Отображение данных на экране"
   ]
  },
  {
   "cell_type": "markdown",
   "id": "nR1NfOxSE4xe",
   "metadata": {
    "id": "nR1NfOxSE4xe"
   },
   "source": [
    "Перед началом работы у вас есть возможность выбрать формат файла, с которым вы будетет работать. Для работы с файлами формата .csv предлагается использовать библиотеку pandas. Но также вы можете загрузить данные из файла .txt с помощью функции np.loadtxt('.txt', delimiter=',' ), используя билиотеку numpy"
   ]
  },
  {
   "cell_type": "code",
   "execution_count": 6,
   "id": "8753e72e",
   "metadata": {
    "id": "8753e72e"
   },
   "outputs": [],
   "source": [
    "df = pd.read_csv('service_center.csv')"
   ]
  },
  {
   "cell_type": "code",
   "execution_count": 8,
   "id": "31dde100",
   "metadata": {
    "id": "31dde100"
   },
   "outputs": [
    {
     "data": {
      "text/html": [
       "<div>\n",
       "<style scoped>\n",
       "    .dataframe tbody tr th:only-of-type {\n",
       "        vertical-align: middle;\n",
       "    }\n",
       "\n",
       "    .dataframe tbody tr th {\n",
       "        vertical-align: top;\n",
       "    }\n",
       "\n",
       "    .dataframe thead th {\n",
       "        text-align: right;\n",
       "    }\n",
       "</style>\n",
       "<table border=\"1\" class=\"dataframe\">\n",
       "  <thead>\n",
       "    <tr style=\"text-align: right;\">\n",
       "      <th></th>\n",
       "      <th>population</th>\n",
       "      <th>profit</th>\n",
       "    </tr>\n",
       "  </thead>\n",
       "  <tbody>\n",
       "    <tr>\n",
       "      <th>0</th>\n",
       "      <td>5.5277</td>\n",
       "      <td>9.1302</td>\n",
       "    </tr>\n",
       "    <tr>\n",
       "      <th>1</th>\n",
       "      <td>8.5186</td>\n",
       "      <td>13.6620</td>\n",
       "    </tr>\n",
       "    <tr>\n",
       "      <th>2</th>\n",
       "      <td>7.0032</td>\n",
       "      <td>11.8540</td>\n",
       "    </tr>\n",
       "    <tr>\n",
       "      <th>3</th>\n",
       "      <td>5.8598</td>\n",
       "      <td>6.8233</td>\n",
       "    </tr>\n",
       "    <tr>\n",
       "      <th>4</th>\n",
       "      <td>8.3829</td>\n",
       "      <td>11.8860</td>\n",
       "    </tr>\n",
       "  </tbody>\n",
       "</table>\n",
       "</div>"
      ],
      "text/plain": [
       "   population   profit\n",
       "0      5.5277   9.1302\n",
       "1      8.5186  13.6620\n",
       "2      7.0032  11.8540\n",
       "3      5.8598   6.8233\n",
       "4      8.3829  11.8860"
      ]
     },
     "execution_count": 8,
     "metadata": {},
     "output_type": "execute_result"
    }
   ],
   "source": [
    "df.head()"
   ]
  },
  {
   "cell_type": "markdown",
   "id": "aP1cYbYSmegc",
   "metadata": {
    "id": "aP1cYbYSmegc"
   },
   "source": [
    "Реализуйте функцию plot_data с помощью библиотеки matplotlib"
   ]
  },
  {
   "cell_type": "code",
   "execution_count": 9,
   "id": "1d14ab9a",
   "metadata": {
    "id": "1d14ab9a"
   },
   "outputs": [],
   "source": [
    "def plotData(X, y):\n",
    "  '''\n",
    "  Инструкция: Отобразите на графике исходные обучающие данные, используя\n",
    "              команды \"figure\", \"plot\" или \"scatter\". Создайте подписи осей графиков,\n",
    "              применяя команды \"xlabel\" и \"ylabel\". Определите, что данные\n",
    "              о количестве населения и соответствующем доходе от продаж\n",
    "              передаются в функцию plotData(x, y) в виде ее\n",
    "              аргументов x and y\n",
    "  '''\n",
    "  # Ваш код здесь"
   ]
  },
  {
   "cell_type": "code",
   "execution_count": 10,
   "id": "NhHeBPQ5DzV4",
   "metadata": {
    "id": "NhHeBPQ5DzV4"
   },
   "outputs": [
    {
     "ename": "NameError",
     "evalue": "name 'data' is not defined",
     "output_type": "error",
     "traceback": [
      "\u001b[0;31m---------------------------------------------------------------------------\u001b[0m",
      "\u001b[0;31mNameError\u001b[0m                                 Traceback (most recent call last)",
      "Cell \u001b[0;32mIn[10], line 2\u001b[0m\n\u001b[1;32m      1\u001b[0m \u001b[38;5;66;03m#строим набор наших данных\u001b[39;00m\n\u001b[0;32m----> 2\u001b[0m plotData(\u001b[43mdata\u001b[49m[:,\u001b[38;5;241m0\u001b[39m], y)\n",
      "\u001b[0;31mNameError\u001b[0m: name 'data' is not defined"
     ]
    }
   ],
   "source": [
    "#строим набор наших данных\n",
    "plotData(data[:,0], y)"
   ]
  },
  {
   "cell_type": "markdown",
   "id": "988269af",
   "metadata": {
    "id": "988269af"
   },
   "source": [
    "## Задание 2: Метод градиентного спуска для одной переменной"
   ]
  },
  {
   "cell_type": "code",
   "execution_count": 11,
   "id": "3423ae73",
   "metadata": {
    "id": "3423ae73"
   },
   "outputs": [],
   "source": [
    "m = len(df) # Число элементов обучающего набора"
   ]
  },
  {
   "cell_type": "code",
   "execution_count": 12,
   "id": "208a66a2",
   "metadata": {
    "id": "208a66a2"
   },
   "outputs": [
    {
     "name": "stdout",
     "output_type": "stream",
     "text": [
      "[[1.     5.5277]\n",
      " [1.     8.5186]\n",
      " [1.     7.0032]\n",
      " [1.     5.8598]\n",
      " [1.     8.3829]]\n"
     ]
    }
   ],
   "source": [
    "X = np.stack([np.ones(m), df['population']], axis=1) # Добавляем единичный столбец к Х\n",
    "y = np.array(df['profit'])\n",
    "y = y.reshape((m, 1))\n",
    "print(X[0:5])"
   ]
  },
  {
   "cell_type": "code",
   "execution_count": 13,
   "id": "9a5de19f",
   "metadata": {
    "id": "9a5de19f"
   },
   "outputs": [
    {
     "name": "stdout",
     "output_type": "stream",
     "text": [
      "[[0.]\n",
      " [0.]]\n"
     ]
    }
   ],
   "source": [
    "theta = np.zeros((2, 1)) # Инициализируем начальные значения\n",
    "print(theta)"
   ]
  },
  {
   "cell_type": "markdown",
   "id": "bIqfsnBaPi-M",
   "metadata": {
    "id": "bIqfsnBaPi-M"
   },
   "source": [
    "Ваша задача рассчитать значение весовой функции для задачи линейной регрессии. Значение весовой функции вычисляется в зависимости от параметра theta, т.е. параметра линейной регресии, обеспечивающего соответствие значений данных (тренировочного набора) X и y.\n",
    "\n",
    "**Cost function:**\n",
    "$$\n",
    "\\begin{aligned}\n",
    "J(θ) &= \\frac{1}{2m}\\sum_{i=1}^{m}\\left(h_{θ}x_i - y_i\\right)^2\n",
    "\\end{aligned}\n",
    "$$\n"
   ]
  },
  {
   "cell_type": "code",
   "execution_count": 14,
   "id": "4bf2bd90",
   "metadata": {
    "id": "4bf2bd90"
   },
   "outputs": [],
   "source": [
    "def computeCost(X, y, theta):\n",
    "  \"\"\"\n",
    "  Инструкция: Вычисляйте стоимость J как результат выбора параметра theta.\n",
    "              В результате стоимость будет определяться величиной J.\n",
    "  \"\"\"\n",
    "  m = len(X)\n",
    "  J=0\n",
    "  # TODO: Implement cost function\n",
    "\n",
    "  return J"
   ]
  },
  {
   "cell_type": "markdown",
   "id": "IaOYkGw9axBR",
   "metadata": {
    "id": "IaOYkGw9axBR"
   },
   "source": [
    "В результате выполнения функции computeCost Вы должны получить стоимость равную 32.07"
   ]
  },
  {
   "cell_type": "code",
   "execution_count": 16,
   "id": "cdf70704",
   "metadata": {
    "id": "cdf70704",
    "scrolled": true
   },
   "outputs": [
    {
     "name": "stdout",
     "output_type": "stream",
     "text": [
      "0\n"
     ]
    }
   ],
   "source": [
    "print(computeCost(X, y, theta))"
   ]
  },
  {
   "cell_type": "markdown",
   "id": "T8M4U3gBikKG",
   "metadata": {
    "id": "T8M4U3gBikKG"
   },
   "source": [
    "Напомним, что параметры модели, это значения $θ_j$. Именно их необходимо подобрать с целью минимизации стоимости $J(θ)$. Один из способов это сделать - использовать алгоритм наискорейшего спуска, где каждая итерация обновляет парметры модели:\n",
    "$$\n",
    "\\begin{aligned}\n",
    "θ_j &= θ_j - α\\frac{1}{m}\\sum_{i=1}^{m}\\left(h_{θ}x_i - y_i\\right)x_j^i\n",
    "\\end{aligned}\n",
    "$$\n"
   ]
  },
  {
   "cell_type": "code",
   "execution_count": null,
   "id": "0fb2942c",
   "metadata": {
    "id": "0fb2942c"
   },
   "outputs": [],
   "source": [
    "def gradientDescent(X, y, theta, alpha, num_iters):\n",
    "  m = len(y) # number of training examples\n",
    "  J_history = np.zeros((num_iters, 1))\n",
    "\n",
    "  #Сохраняйте функцию стоимости на каждой итерации\n",
    "  J_history[i] = computeCost(X, y, theta)\n",
    "  return theta, J_history"
   ]
  },
  {
   "cell_type": "code",
   "execution_count": null,
   "id": "a38ab3a4",
   "metadata": {
    "id": "a38ab3a4"
   },
   "outputs": [],
   "source": [
    "iterations = 2000 # Количество итераций\n",
    "alpha = 0.01 #Скорость обучения\n",
    "theta, J_history = gradientDescent(X, y, theta, alpha, iterations) # Выполнение градиентного спуска\n",
    "theta"
   ]
  },
  {
   "cell_type": "code",
   "execution_count": null,
   "id": "d82af0e4",
   "metadata": {
    "id": "d82af0e4"
   },
   "outputs": [],
   "source": [
    "J_history"
   ]
  },
  {
   "cell_type": "code",
   "execution_count": null,
   "id": "XpQZnEwTcQGb",
   "metadata": {
    "id": "XpQZnEwTcQGb"
   },
   "outputs": [],
   "source": [
    "plt.figure(figsize=(9,7))\n",
    "plt.plot(range(iterations), J_history, label=\"cost function\")\n",
    "plt.title('График изменения значения функции стоимости')\n",
    "plt.xlabel('Количество итераций')\n",
    "plt.ylabel('Функция стоимости')\n",
    "plt.grid(alpha=0.2)\n",
    "plt.legend()\n",
    "plt.show()"
   ]
  },
  {
   "cell_type": "markdown",
   "id": "E_Fa7M_5CZZH",
   "metadata": {
    "id": "E_Fa7M_5CZZH"
   },
   "source": [
    "Вы можете проверить насколько правильно ваш алгоритм нашел параметры модели с помщью библиотеки scipy. В коде ниже реализована минимизация функции стоимости с помощью данной библиотеки, методом BFGS"
   ]
  },
  {
   "cell_type": "code",
   "execution_count": null,
   "id": "1a6d8b40",
   "metadata": {
    "id": "1a6d8b40"
   },
   "outputs": [],
   "source": [
    "import scipy\n",
    "from scipy.optimize import minimize\n",
    "def f_cost(x):\n",
    "    theta_0, theta_1 = x\n",
    "    return (np.sum((1/(2*len(df['profit'])))*((theta_0 + df['population']*theta_1 - df['profit'])**2)))\n",
    "\n",
    "x0 = np.array([1, 1])\n",
    "result = scipy.optimize.minimize(f_cost, x0, method='BFGS')\n",
    "result"
   ]
  },
  {
   "cell_type": "code",
   "execution_count": null,
   "id": "5d64ee0e",
   "metadata": {
    "id": "5d64ee0e"
   },
   "outputs": [],
   "source": [
    "min_theta_0 = result.x[0]\n",
    "min_theta_1 = result.x[1]\n",
    "min_J = result.fun\n",
    "print(min_theta_0, min_theta_1, min_J, sep='\\n')"
   ]
  },
  {
   "cell_type": "code",
   "execution_count": null,
   "id": "kKWrn26DEqQX",
   "metadata": {
    "id": "kKWrn26DEqQX"
   },
   "outputs": [],
   "source": [
    "min_theta_0 = theta[0]\n",
    "min_theta_1 = theta[1]\n",
    "min_J = J_history.min()\n",
    "print(*min_theta_0, *min_theta_1, min_J, sep='\\n')"
   ]
  },
  {
   "cell_type": "code",
   "execution_count": null,
   "id": "4a3ec31d",
   "metadata": {
    "id": "4a3ec31d"
   },
   "outputs": [],
   "source": [
    "plt.figure(figsize=(9,7))\n",
    "plt.scatter(df['population'], df['profit'], label=\"training data\", s = 150, c='purple', marker='o',  alpha=0.55)\n",
    "plt.plot(X[:,1], X.dot(theta), label=\"linear regression\")\n",
    "plt.xlabel('Число жителей города (десятки тысяч)')\n",
    "plt.ylabel('Прибыль (10 тыс руб)')\n",
    "plt.grid(alpha=0.2)\n",
    "plt.legend()\n",
    "plt.show()"
   ]
  },
  {
   "cell_type": "markdown",
   "id": "mdLw2jKfjk2t",
   "metadata": {
    "id": "mdLw2jKfjk2t"
   },
   "source": [
    "Прогнозирование прибыли для количества проданных изделий 35,000 и 70,00\n",
    "(грубая оценка количества жителей города)"
   ]
  },
  {
   "cell_type": "code",
   "execution_count": null,
   "id": "71b6b130",
   "metadata": {
    "colab": {
     "base_uri": "https://localhost:8080/"
    },
    "id": "71b6b130",
    "outputId": "5b1f838a-1461-40e4-9beb-b6120c70dc0f"
   },
   "outputs": [],
   "source": [
    "predict1 = np.array([1, 3.5]).dot(theta)\n",
    "predict2 = np.array([1, 7]).dot(theta)\n",
    "\n",
    "print('Для количества изделий = 35,000, предсказываем прибыль: {:.2f} \\n'.format(*predict1*10000))\n",
    "print('Для количества изделий = 70,000, предсказываем прибыль: {:.2f} \\n'.format(*predict2*10000))"
   ]
  },
  {
   "cell_type": "markdown",
   "id": "bec343cd",
   "metadata": {
    "id": "bec343cd"
   },
   "source": [
    "## Задание 3: Визуализация $J$($theta_0$, $theta_1$)"
   ]
  },
  {
   "cell_type": "code",
   "execution_count": null,
   "id": "bfcb24e1",
   "metadata": {
    "id": "bfcb24e1"
   },
   "outputs": [],
   "source": [
    "# Сетка, на которой рассчитывается J\n",
    "theta0_vals = np.linspace(-10, 10, 100);\n",
    "theta1_vals = np.linspace(-1, 4, 100);\n",
    "\n",
    "theta0_ww, theta1_ww = np.meshgrid(theta0_vals, theta1_vals)\n",
    "\n",
    "# Инициализация J_vals to a matrix of 0's\n",
    "J_vals = np.zeros((len(theta0_vals), len(theta1_vals)))\n",
    "\n",
    "# Заполнение J_vals\n",
    "for i in range(len(theta0_vals)):\n",
    "    for j in range(len(theta1_vals)):\n",
    "        t = [theta0_vals[i], theta1_vals[j]]\n",
    "        J_vals[i,j] = computeCost(X, y, t)"
   ]
  },
  {
   "cell_type": "code",
   "execution_count": null,
   "id": "45df15aa",
   "metadata": {
    "id": "45df15aa"
   },
   "outputs": [],
   "source": [
    "w0 =  np.linspace(-10, 10, 100)\n",
    "w1 =  np.linspace(-1, 4, 100)\n",
    "\n",
    "ww0, ww1 = np.meshgrid(w0, w1)\n",
    "\n",
    "sse = [] #Sum of Squared Errors\n",
    "for j in range(len(w1)):\n",
    "    sse.append([])\n",
    "    for i in range(len(w0)):\n",
    "         sse[j].append((1/(2*len(df['profit'])))*((ww0[j][i] + df['population']*ww1[j][i] - df['profit'])**2).sum())\n",
    "sse = np.array(sse)"
   ]
  },
  {
   "cell_type": "markdown",
   "id": "TcLCU1xDJ4eh",
   "metadata": {
    "id": "TcLCU1xDJ4eh"
   },
   "source": [
    "Если раскомментировать первую строчку следующего блока, то у вас будет возможность повернуть получившуюся поверхность и наглядно увидеть минимум. Однако, если взять и прологорифмировать функцию стоимости, то глобальный минимум функции будет виден ещё лучше. Этот минимум и есть оптимальная точка $θ_0$ и $θ_1$ к которой градиентный спуск с каждым шагом всё ближе и ближе"
   ]
  },
  {
   "cell_type": "code",
   "execution_count": null,
   "id": "3bf9ce7b",
   "metadata": {
    "id": "3bf9ce7b"
   },
   "outputs": [],
   "source": [
    "# %matplotlib notebook\n",
    "from mpl_toolkits.mplot3d import axes3d\n",
    "\n",
    "fig = plt.figure(figsize=(9,7))\n",
    "ax = fig.add_subplot(111, projection='3d')\n",
    "ax.view_init(20, 335)\n",
    "\n",
    "# ax.plot_surface(ww0, ww1, sse, cmap=plt.cm.Spectral, rstride=3, cstride=3)\n",
    "ax.plot_wireframe(ww0, ww1, sse, color = 'purple', rstride=3, cstride=3, antialiased=True, label = 'function cost' )\n",
    "\n",
    "# точка - минимум\n",
    "ax.scatter(min_theta_0, min_theta_1, np.log(min_J),\n",
    "    color='blue', marker='o', s=300,\n",
    "    label='min: $θ_0$=%0.2f, $θ_1$=%0.2f, $J$=%0.2f' % (min_theta_0, min_theta_1, min_J))\n",
    "\n",
    "ax.set_xlabel('$θ_0$', fontsize=12)\n",
    "ax.set_ylabel('$θ_1$', fontsize=12)\n",
    "ax.set_zlabel('$J$', fontsize=12)\n",
    "plt.title('Визуализация функции стоимости', fontsize=15)\n",
    "plt.yticks(size = 10)\n",
    "plt.xticks(size = 10)\n",
    "plt.legend(fontsize=15)\n",
    "plt.show()"
   ]
  },
  {
   "cell_type": "code",
   "execution_count": null,
   "id": "05ed6e5b",
   "metadata": {
    "id": "05ed6e5b"
   },
   "outputs": [],
   "source": [
    "# %matplotlib notebook\n",
    "from mpl_toolkits.mplot3d import axes3d\n",
    "from matplotlib import cm\n",
    "\n",
    "fig = plt.figure(figsize=(9,7))\n",
    "ax = fig.add_subplot(111, projection='3d')\n",
    "ax.view_init(5, 335)\n",
    "\n",
    "# ax.plot_surface(ww0, ww1, np.log(sse), cmap=plt.cm.Spectral, rstride=3, cstride=3)\n",
    "ax.plot_wireframe(ww0, ww1, np.log(sse), color = 'purple', rstride=3, cstride=3, antialiased=True, label = 'function cost' )\n",
    "\n",
    "# точка - минимум\n",
    "ax.scatter(min_theta_0, min_theta_1, np.log(min_J),\n",
    "    color='blue', marker='o', s=300,\n",
    "    label='min: $θ_0$=%0.2f, $θ_1$=%0.2f, $log(J)$=%0.2f' % (min_theta_0, min_theta_1, np.log(min_J)))\n",
    "\n",
    "ax.set_xlabel('$θ_0$', fontsize=12)\n",
    "ax.set_ylabel('$θ_1$', fontsize=12)\n",
    "ax.set_zlabel('$log(J)$', fontsize=12)\n",
    "plt.title('Визуализация функции стоимости', fontsize=15)\n",
    "plt.yticks(size = 10)\n",
    "plt.xticks(size = 10)\n",
    "plt.legend(fontsize=15)\n",
    "plt.show()"
   ]
  },
  {
   "cell_type": "code",
   "execution_count": null,
   "id": "5ddea4bb",
   "metadata": {
    "id": "5ddea4bb"
   },
   "outputs": [],
   "source": [
    "#Контурное представление\n",
    "plt.figure(figsize=(9,7))\n",
    "plt.contourf(ww0, ww1, np.log(sse))\n",
    "# plt.contour(ww0, ww1, np.log(sse))\n",
    "plt.scatter(min_theta_0, min_theta_1, s = 100, c='red', marker='o',\n",
    "           label='min: $θ_0$=%0.2f, $θ_1$=%0.2f' % (min_theta_0, min_theta_1))\n",
    "plt.xlabel('$θ_0$', fontsize=15)\n",
    "plt.ylabel('$θ_1$', fontsize=15)\n",
    "plt.yticks(size = 13)\n",
    "plt.xticks(size = 13)\n",
    "plt.legend(fontsize=20)\n",
    "plt.show()"
   ]
  },
  {
   "cell_type": "markdown",
   "id": "a03885e5",
   "metadata": {
    "id": "a03885e5"
   },
   "source": [
    "# Лабораторная работа 1.2\n",
    "*********\n",
    "## Линейная регрессия для нескольких переменных"
   ]
  },
  {
   "cell_type": "code",
   "execution_count": null,
   "id": "ba4d1004",
   "metadata": {
    "id": "ba4d1004"
   },
   "outputs": [],
   "source": [
    "data = pd.read_csv(\"cost_apartments.csv\")"
   ]
  },
  {
   "cell_type": "code",
   "execution_count": null,
   "id": "5bfad36d",
   "metadata": {
    "id": "5bfad36d"
   },
   "outputs": [],
   "source": [
    "data.head()"
   ]
  },
  {
   "cell_type": "markdown",
   "id": "db69fab5",
   "metadata": {
    "id": "db69fab5"
   },
   "source": [
    "## Задание 1: Нормализация признаков и приведение их к нулевому среднему"
   ]
  },
  {
   "cell_type": "code",
   "execution_count": null,
   "id": "VO6fRYdfLiF4",
   "metadata": {
    "id": "VO6fRYdfLiF4"
   },
   "outputs": [],
   "source": [
    "X = np.array(data[['squera','number_rooms']], dtype=np.float)\n",
    "y = np.array(data['price'], dtype=np.float)\n",
    "m = y.shape[0]\n",
    "\n",
    "# Вывод на экран массива данных\n",
    "print('Первые 10 элементов массива данных:');\n",
    "print(X[:10])"
   ]
  },
  {
   "cell_type": "code",
   "execution_count": null,
   "id": "42d3b236",
   "metadata": {
    "id": "42d3b236"
   },
   "outputs": [],
   "source": [
    "def featureNormalize(X_norm):\n",
    "  '''\n",
    "  Инструкция:   Сначала, для каждого признака из набора данных вычислите\n",
    "                его среднее значение и произведите его вычитание из набора данных,\n",
    "                при этом среднее значение сохраните как mu. Далее, рассчитайте\n",
    "                стандартное (среднеквадратическое) отклонение sigma\n",
    "                для каждого признака и разделите X-mu на sigma.\n",
    "                Заметим, что X представляет собой матрицу, в которой каждый\n",
    "                столбец характеризует признак, а каждая строка - обучающий пример.\n",
    "                Нормализацию данных следует производить отдельно для каждого\n",
    "                признака\n",
    "  '''\n",
    "  mu = np.zeros((1, len(X[0])))\n",
    "  sigma = np.zeros((1, len(X[0])))\n",
    "\n",
    "  return X_norm, mu, sigma"
   ]
  },
  {
   "cell_type": "code",
   "execution_count": null,
   "id": "83e3124e",
   "metadata": {
    "id": "83e3124e"
   },
   "outputs": [],
   "source": [
    "X_norm, mu, sigma, = featureNormalize(X)\n",
    "X = np.hstack((np.ones((m, 1)),X_norm))"
   ]
  },
  {
   "cell_type": "code",
   "execution_count": null,
   "id": "28e6c659",
   "metadata": {
    "id": "28e6c659"
   },
   "outputs": [],
   "source": [
    "X_norm[0:5]"
   ]
  },
  {
   "cell_type": "markdown",
   "id": "719ba1aa",
   "metadata": {
    "id": "719ba1aa"
   },
   "source": [
    "## Задание 2: Метод градиентного спуска"
   ]
  },
  {
   "cell_type": "markdown",
   "id": "ntyiJo0I9aa-",
   "metadata": {
    "id": "ntyiJo0I9aa-"
   },
   "source": [
    "computeCostMulti Рассчитывает значение весовой функции для задачи линейной регрессии с несколькими переменными (признаками). J = computeCostMulti(X, y, theta) значение весовой функции вычисляется в зависимости от параметра theta, т.е. параметра линейной регресии, обеспечивающего соответствие значений данных (тренировочного набора)X и y."
   ]
  },
  {
   "cell_type": "code",
   "execution_count": null,
   "id": "V9TerLqQKU3D",
   "metadata": {
    "id": "V9TerLqQKU3D"
   },
   "outputs": [],
   "source": [
    "def computeCostMulti(X, y, theta):\n",
    "  m = y.shape[0]\n",
    "\n",
    "  return J"
   ]
  },
  {
   "cell_type": "markdown",
   "id": "E0MtWAjx9n9T",
   "metadata": {
    "id": "E0MtWAjx9n9T"
   },
   "source": [
    "gradientDescentMulti Определение значения theta методом градиентного спуска theta = gradientDescentMulti(x, y, theta, alpha, num_iters) производит переопределение theta в процессе выполнения num_iters итерационных шагов с параметром скорости обучения alpha"
   ]
  },
  {
   "cell_type": "code",
   "execution_count": null,
   "id": "X8qXUgYsKWjI",
   "metadata": {
    "id": "X8qXUgYsKWjI"
   },
   "outputs": [],
   "source": [
    "def gradientDescentMulti(X, y, theta, alpha, num_iters):\n",
    "\n",
    "  m = y.shape[0]\n",
    "  J_history = []\n",
    "\n",
    "  # Сохраняйте функцию стоимости на каждой итерации\n",
    "  J_history.append(computeCostMulti(X, y, theta))\n",
    "\n",
    "  return theta, J_history"
   ]
  },
  {
   "cell_type": "code",
   "execution_count": null,
   "id": "de97e98b",
   "metadata": {
    "id": "de97e98b"
   },
   "outputs": [],
   "source": [
    "alpha = 0.01\n",
    "num_iters = 1000\n",
    "theta = np.zeros(3)\n",
    "# Инициализация theta и нахождение локального экстремума (минимума)\n",
    "# функции с помощью движения вдоль градиента (градиентный спуск)\n",
    "theta, J_history = gradientDescentMulti(X, y, theta, alpha, num_iters)\n",
    "print('theta:\\n {} \\n {} \\n {} \\n'.format(theta[0], theta[1], theta[2]))\n",
    "print('J_history первое и последнее значение функции\\n {} \\n {}'.format(J_history[0], J_history[-1]))"
   ]
  },
  {
   "cell_type": "code",
   "execution_count": null,
   "id": "6832d36b",
   "metadata": {
    "id": "6832d36b"
   },
   "outputs": [],
   "source": [
    "print(\"%0.5f\" % (computeCost(X, y, theta)))"
   ]
  },
  {
   "cell_type": "code",
   "execution_count": null,
   "id": "9d7f08d5",
   "metadata": {
    "id": "9d7f08d5"
   },
   "outputs": [],
   "source": [
    "# Вывод на экран графика сходимости процесса\n",
    "plt.figure(figsize=(9,7))\n",
    "plt.plot(range(num_iters), J_history, label = \"learning rate {:.2f}\".format(alpha))\n",
    "plt.xlabel('Число итераций')\n",
    "plt.ylabel('Функция стоимости J')\n",
    "plt.grid(alpha=0.2)\n",
    "plt.legend()\n",
    "plt.show()"
   ]
  },
  {
   "cell_type": "code",
   "execution_count": null,
   "id": "067dca36",
   "metadata": {
    "id": "067dca36"
   },
   "outputs": [],
   "source": [
    "num_iters_test = 150\n",
    "theta_test = np.zeros(3)\n",
    "_ , J_history_1 = gradientDescentMulti(X_norm, y, theta_test, 0.01, num_iters_test)\n",
    "_ , J_history_2 = gradientDescentMulti(X_norm, y, theta_test, 0.1, num_iters_test)\n",
    "_ , J_history_3 = gradientDescentMulti(X_norm, y, theta_test, 0.03, num_iters_test)\n",
    "_ , J_history_4 = gradientDescentMulti(X_norm, y, theta_test, 0.3, num_iters_test)"
   ]
  },
  {
   "cell_type": "code",
   "execution_count": null,
   "id": "MgwF1JAMukpY",
   "metadata": {
    "id": "MgwF1JAMukpY"
   },
   "outputs": [],
   "source": [
    "# Вывод на экран графика сходимости процесса\n",
    "fig = plt.figure(figsize=(9,7))\n",
    "ax = fig.add_subplot(1, 1, 1)\n",
    "ax.set_xlabel('Число итераций')\n",
    "ax.set_ylabel('Функция стоимости J')\n",
    "plt.title(' Сходимость метода градиентного спуска с соответствующим диапазоном скоростей обучения\\n')\n",
    "ax.plot(np.arange(len(J_history_1)), J_history_1, lw=2, c='r', label = \"learning rate {:.2f}\".format(0.01))\n",
    "ax.plot(np.arange(len(J_history_2)), J_history_2, lw=2, c='g', label = \"learning rate {:.2f}\".format( 0.1))\n",
    "ax.plot(np.arange(len(J_history_3)), J_history_3, lw=2, c='b', label = \"learning rate {:.2f}\".format(0.03))\n",
    "ax.plot(np.arange(len(J_history_4)), J_history_4, lw=2, c='y', label = \"learning rate {:.2f}\".format( 0.3))\n",
    "plt.grid(alpha=0.2)\n",
    "plt.legend()\n",
    "plt.show()"
   ]
  },
  {
   "cell_type": "markdown",
   "id": "jjJ3Xhpc1m5Z",
   "metadata": {
    "id": "jjJ3Xhpc1m5Z"
   },
   "source": [
    "Практическое задание: оценка стоимости трехкомнатной квартиры площадью 60 м2"
   ]
  },
  {
   "cell_type": "code",
   "execution_count": null,
   "id": "42d9056b",
   "metadata": {
    "id": "42d9056b"
   },
   "outputs": [],
   "source": [
    "in_x = np.array([1, 60, 3])\n",
    "norm_mu = np.concatenate([[0], mu], axis=0)\n",
    "norm_sigma = np.concatenate([[1], sigma], axis=0)\n",
    "norm_in_x = ((in_x - norm_mu)/norm_sigma).T\n",
    "price = np.dot((theta.T), norm_in_x);\n",
    "\n",
    "print('Стоимость трехкомнатной квартиры площадью 60 м2 оцененная методом')\n",
    "print(f'градиентного спуска составляет: {price} рублей\\n')"
   ]
  },
  {
   "cell_type": "markdown",
   "id": "77387ee9",
   "metadata": {
    "id": "77387ee9"
   },
   "source": [
    "## Задание 3: Система нормальных уравнений"
   ]
  },
  {
   "cell_type": "code",
   "execution_count": null,
   "id": "8bba70bb",
   "metadata": {
    "id": "8bba70bb"
   },
   "outputs": [],
   "source": [
    "X = np.array(data[['squera','number_rooms']], dtype=np.float)\n",
    "y = np.array(data['price'], dtype=np.float)\n",
    "m = y.shape[0]\n",
    "X = np.concatenate([np.ones((m, 1)), X], axis=1)\n",
    "print(X[0:5])"
   ]
  },
  {
   "cell_type": "markdown",
   "id": "9WZg0rDhAQzg",
   "metadata": {
    "id": "9WZg0rDhAQzg"
   },
   "source": [
    "Замкнутая форма для линейной регрессии записывается как:: $$ w = (X^TX)^{-1}X^Ty $$\n",
    "Использование этой формулы не требует нормализации свойств. Точный результат достигается без использования итераций: нет цикла как в градиентном спуске. Завершите код в normalEqn используя приведённую формулу, для вычисления $θ$. Здесь не требуется нормализация, однако это не значит, что не нужно добавить единичный столбец (учёт $θ_0$) к $X$"
   ]
  },
  {
   "cell_type": "code",
   "execution_count": null,
   "id": "b4f4e4b6",
   "metadata": {
    "id": "b4f4e4b6"
   },
   "outputs": [],
   "source": [
    "from numpy import linalg\n",
    "def normalEqn(X, y):\n",
    "\n",
    "    return theta"
   ]
  },
  {
   "cell_type": "markdown",
   "id": "kVcKKvmJ0YGo",
   "metadata": {
    "id": "kVcKKvmJ0YGo"
   },
   "source": [
    "Расчет параметров theta решением системы нормальных уравнений"
   ]
  },
  {
   "cell_type": "code",
   "execution_count": null,
   "id": "7e9b8511",
   "metadata": {
    "id": "7e9b8511"
   },
   "outputs": [],
   "source": [
    "theta_sisteam = normalEqn(X, y)\n",
    "print(\"Значение theta, полученное с помощью системы нормальных уравнений: \")\n",
    "print(*theta_sisteam, sep='\\n')"
   ]
  },
  {
   "cell_type": "markdown",
   "id": "s6vbFlI_0eEG",
   "metadata": {
    "id": "s6vbFlI_0eEG"
   },
   "source": [
    "Используйте этот метод для оценки стоимости трехкомнатной квартиры площадью 60 м2, методом наименьших квадратов. Можете использовать предыдущее задание с использованием метода градиентного спуска для проверки (должно получиться сходное число)."
   ]
  },
  {
   "cell_type": "code",
   "execution_count": null,
   "id": "e17e4256",
   "metadata": {
    "id": "e17e4256"
   },
   "outputs": [],
   "source": [
    "in_x_new = np.array([1, 60, 3])\n",
    "price_sistem = in_x_new.dot(theta_sisteam)\n",
    "print('Стоимость трехкомнатной квартиры площадью 60 м2, оцененная методом наименьших квадратов составляет: {} рублей'.format(*price_sistem));"
   ]
  }
 ],
 "metadata": {
  "colab": {
   "provenance": []
  },
  "kernelspec": {
   "display_name": "Python 3 (ipykernel)",
   "language": "python",
   "name": "python3"
  },
  "language_info": {
   "codemirror_mode": {
    "name": "ipython",
    "version": 3
   },
   "file_extension": ".py",
   "mimetype": "text/x-python",
   "name": "python",
   "nbconvert_exporter": "python",
   "pygments_lexer": "ipython3",
   "version": "3.11.5"
  }
 },
 "nbformat": 4,
 "nbformat_minor": 5
}
